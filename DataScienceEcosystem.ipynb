{
  "metadata": {
    "kernelspec": {
      "name": "python",
      "display_name": "Python (Pyodide)",
      "language": "python"
    },
    "language_info": {
      "codemirror_mode": {
        "name": "python",
        "version": 3
      },
      "file_extension": ".py",
      "mimetype": "text/x-python",
      "name": "python",
      "nbconvert_exporter": "python",
      "pygments_lexer": "ipython3",
      "version": "3.8"
    }
  },
  "nbformat_minor": 4,
  "nbformat": 4,
  "cells": [
    {
      "cell_type": "markdown",
      "source": "#### Exercise 1: Create a Jupyter Notebook\n##### Create a new Jupyter notebook called DataScienceEcosystem.ipynb",
      "metadata": {}
    },
    {
      "cell_type": "code",
      "source": "",
      "metadata": {
        "trusted": true
      },
      "outputs": [],
      "execution_count": null
    },
    {
      "cell_type": "markdown",
      "source": "#### Exercise 2: Create markdown cell with title of the notebook\n##### Create a markdown cell with the title Data Science Tools and Ecosystem using H1 style heading.\n##### Take a screenshot of the markdown cell and name it as 2-title.png (Images can be saved with either the .jpg or .png extension.)",
      "metadata": {}
    },
    {
      "cell_type": "markdown",
      "source": "##### Answer:\n# Data Science Tools and Ecosystem",
      "metadata": {}
    },
    {
      "cell_type": "markdown",
      "source": "##### Answer:\n# Data Science Tools and Ecosystem",
      "metadata": {}
    },
    {
      "cell_type": "code",
      "source": "",
      "metadata": {
        "trusted": true
      },
      "outputs": [],
      "execution_count": null
    },
    {
      "cell_type": "markdown",
      "source": "#### Exercise 3 - Create a markdown cell for an introduction\n##### Write an introductory sentence about the notebook such as the follows:\n##### In this notebook, Data Science Tools and Ecosystem are summarized.\n##### Take a screenshot of the markdown cell and name it as 3-intro.png (Images can be saved with either the .jpg or .png extension.)",
      "metadata": {}
    },
    {
      "cell_type": "markdown",
      "source": "##### Answer:\nIn this notebook, Data Science Tools and Ecosystem are summarized.",
      "metadata": {}
    },
    {
      "cell_type": "markdown",
      "source": "##### Answer:\nIn this notebook, Data Science Tools and Ecosystem are summarized.",
      "metadata": {}
    },
    {
      "cell_type": "markdown",
      "source": "**Objectives:**\n* Commonly used languages for data science\n+ Data science libraries commonly used by data scientists\n- How to use Markdown cells",
      "metadata": {}
    },
    {
      "cell_type": "markdown",
      "source": "**Objectives:**\n* Commonly used languages for data science\n+ Data science libraries commonly used by data scientists\n- How to use Markdown cells",
      "metadata": {}
    },
    {
      "cell_type": "code",
      "source": "",
      "metadata": {
        "trusted": true
      },
      "outputs": [],
      "execution_count": null
    },
    {
      "cell_type": "markdown",
      "source": "#### Exercise 4 - Create a markdown cell to list data science languages\n\n##### Start the cell with an overview line such as:\n\n##### Some of the popular languages that Data Scientists use are:\n##### Then create an ordered list (i.e. numbered) listing 3 (or more) commonly used languages for data science.\n##### Take a screenshot of the markdown cell and name it as 4-dslanguages.png (Images can be saved with either the .jpg or .png extension.)",
      "metadata": {}
    },
    {
      "cell_type": "markdown",
      "source": "##### Answer:\nSome of the popular languages that Data Scientists use are:\n1. Python\n2. R\n3. SQL",
      "metadata": {}
    },
    {
      "cell_type": "markdown",
      "source": "##### Answer:\nSome of the popular languages that Data Scientists use are:\n1. Python\n2. R\n3. SQL",
      "metadata": {}
    },
    {
      "cell_type": "code",
      "source": "",
      "metadata": {
        "trusted": true
      },
      "outputs": [],
      "execution_count": null
    },
    {
      "cell_type": "markdown",
      "source": "#### Exercise 5 - Create a markdown cell to list data science libraries\n\n##### Add an overview line to the cell like:\n\n##### Some of the commonly used libraries used by Data Scientists include:\n##### Below this line add an ordered list listing 3 (or more) commonly used libraries in data science.\n##### Take a screenshot of the markdown cell and name it as 5-dslibraries.png (Images can be saved with either the .jpg or .png extension.)",
      "metadata": {}
    },
    {
      "cell_type": "markdown",
      "source": "##### Answer:\nSome of the commonly used libraries used by Data Scientists include:\n1. Pandas\n2. Matplotlib\n3. NumPy",
      "metadata": {}
    },
    {
      "cell_type": "markdown",
      "source": "##### Answer:\nSome of the commonly used libraries used by Data Scientists include:\n1. Pandas\n2. Matplotlib\n3. NumPy",
      "metadata": {}
    },
    {
      "cell_type": "code",
      "source": "",
      "metadata": {
        "trusted": true
      },
      "outputs": [],
      "execution_count": null
    },
    {
      "cell_type": "markdown",
      "source": "#### Exercise 6 - Create a markdown cell with a table of Data Science tools\n\n##### Create a single column table in this cell with the first row containing the header Data Science Tools. The subsequent three rows in the table should indicate three development environment open source tools used in data science.\n\n##### Take a screenshot of the markdown cell and name it as 6-dstools.png (Images can be saved with either the .jpg or .png extension.)\n##### Hint: Refer to Lab: Using Markdowns in Jupyter Notebooks to create a table.",
      "metadata": {}
    },
    {
      "cell_type": "markdown",
      "source": "##### Answer:\n\n| Data Science Tools |\n| ------------------ |\n| Jupyter |\n| RStudio |\n| Spyder |",
      "metadata": {}
    },
    {
      "cell_type": "markdown",
      "source": "##### Answer:\n\n| Data Science Tools |\n| ------------------ |\n| Jupyter |\n| RStudio |\n| Spyder |",
      "metadata": {}
    },
    {
      "cell_type": "markdown",
      "source": "#### Exercise 7 - Create a markdown cell introducing arithmetic expression examples\n\n##### Add a line in this cell with H3 style heading with text like:\n\n##### Below are a few examples of evaluating arithmetic expressions in Python.\n##### Take a screenshot of the markdown cell and name it as 7-introarithmetic.png (Images can be saved with either the .jpg or .png extension.)",
      "metadata": {}
    },
    {
      "cell_type": "markdown",
      "source": "##### Answer:\n### Below are a few examples of evaluating arithmetic expressions in Python\n\nAddition:\n2+5\n\nSubtraction\n50-25\n\nMultiplication\n25*3",
      "metadata": {}
    },
    {
      "cell_type": "markdown",
      "source": "##### Answer:\n### Below are a few examples of evaluating arithmetic expressions in Python\n\nAddition:\n2+5\n\nSubtraction\n50-25\n\nMultiplication\n25*3",
      "metadata": {}
    },
    {
      "cell_type": "code",
      "source": "",
      "metadata": {
        "trusted": true
      },
      "outputs": [],
      "execution_count": null
    },
    {
      "cell_type": "markdown",
      "source": "#### Exercise 8 - Create a code cell to multiply and add numbers\n\n##### In this code cell evaluate the expression (3*4)+5.\n##### Insert a comment line before the expression to explain the operation e.g.  This a simple arithmetic expression to mutiply then add integers.\n##### Then execute the cell to ensure the expression returns the expected output of 17.\n##### Take a screenshot of the code cell with output and name it as 8-multiplyandaddintegers.png (Images can be saved with either the .jpg or .png extension.)",
      "metadata": {}
    },
    {
      "cell_type": "markdown",
      "source": "##### Answer:",
      "metadata": {}
    },
    {
      "cell_type": "code",
      "source": "# This a simple arithmetic expression to mutiply then add integers\n\n(3*4)+5",
      "metadata": {
        "trusted": true
      },
      "outputs": [
        {
          "execution_count": 2,
          "output_type": "execute_result",
          "data": {
            "text/plain": "17"
          },
          "metadata": {}
        }
      ],
      "execution_count": 2
    },
    {
      "cell_type": "code",
      "source": "",
      "metadata": {
        "trusted": true
      },
      "outputs": [],
      "execution_count": null
    },
    {
      "cell_type": "markdown",
      "source": "#### Exercise 9 - Create a code cell to convert minutes to hours\n\n##### In this code cell write an expression that converts 200 minutes into hours.\n##### Insert a comment line before the expression to explain the operation e.g.  This will convert 200 minutes to hours by diving by 60.\n##### Run the cell to evaluate the expression.\n##### Take a screenshot of the code cell with output and name it as 9-hourstominutes.png (Images can be saved with either the .jpg or .png extension.)",
      "metadata": {}
    },
    {
      "cell_type": "markdown",
      "source": "##### Answer:",
      "metadata": {}
    },
    {
      "cell_type": "code",
      "source": "# This will convert 200 minutes to hours by diving by 60\n\n200/60",
      "metadata": {
        "trusted": true
      },
      "outputs": [
        {
          "execution_count": 3,
          "output_type": "execute_result",
          "data": {
            "text/plain": "3.3333333333333335"
          },
          "metadata": {}
        }
      ],
      "execution_count": 3
    },
    {
      "cell_type": "code",
      "source": "",
      "metadata": {
        "trusted": true
      },
      "outputs": [],
      "execution_count": null
    },
    {
      "cell_type": "markdown",
      "source": "#### Exercise 10 - Insert a markdown cell to list Objectives\n\n##### Below the introduction cell created in Exercise 3, insert a new markdown cell to list the objectives that this notebook covered (i.e. some of the key takeaways from the course). In this new cell start with an introductory line titled: Objectives: in bold font. Then using an unordered list (bullets) indicate 3 to 5 items covered in this notebook, such as List popular languages for Data Science.\n##### Take a screenshot of the markdown cell and name it as 10-objectives.png (Images can be saved with either the .jpg or .png extension.)",
      "metadata": {}
    },
    {
      "cell_type": "markdown",
      "source": "##### Answer:\n\nSee Exercise 3\n",
      "metadata": {}
    },
    {
      "cell_type": "code",
      "source": "",
      "metadata": {
        "trusted": true
      },
      "outputs": [],
      "execution_count": null
    },
    {
      "cell_type": "markdown",
      "source": "#### Exercise 11 - Create a markdown cell to indicate the Author's name\n\n##### In this markdown cell markdown cell include the following text Author in H2 style heading. Include your name as regular text below the word Author.\n##### Take a screenshot of the markdown cell and name it as 11-authordetails.png (Images can be saved with either the .jpg or .png extension.)\n\n##### Note: Save and download the notebook.",
      "metadata": {}
    },
    {
      "cell_type": "markdown",
      "source": "##### Answer:\n\n## Author:\nMohamed Ismail",
      "metadata": {}
    },
    {
      "cell_type": "markdown",
      "source": "##### Answer:\n\n## Author:\nMohamed Ismail",
      "metadata": {}
    },
    {
      "cell_type": "code",
      "source": "",
      "metadata": {
        "trusted": true
      },
      "outputs": [],
      "execution_count": null
    },
    {
      "cell_type": "markdown",
      "source": "#### Exercise 12 - Share your notebook through GitHub\n\n##### Upload your notebook to a public respository on GitHub.\n\n##### Note : Please keep the GitHub repo link of the notebook handy.\n##### You will need to submit this link as a part of the assignment evaluation.\n\n##### Hint: Refer to Lab: Working with files in Jupyter Notebooks to download the notebook from SN Labs.",
      "metadata": {}
    },
    {
      "cell_type": "code",
      "source": "",
      "metadata": {
        "trusted": true
      },
      "outputs": [],
      "execution_count": null
    },
    {
      "cell_type": "markdown",
      "source": "#### Exercise 13 -Take a screenshot of the first page of the notebook and save it as 1-notebook.png(Images can be saved with either the .jpg or .png extension.)\n\n##### Refer to Hands-on Lab: Getting Started with GitHub to upload the downloaded notebook to GitHub.",
      "metadata": {}
    },
    {
      "cell_type": "code",
      "source": "",
      "metadata": {
        "trusted": true
      },
      "outputs": [],
      "execution_count": null
    }
  ]
}